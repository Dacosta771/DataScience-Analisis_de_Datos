{
 "cells": [
  {
   "cell_type": "markdown",
   "id": "40020aed",
   "metadata": {},
   "source": [
    "### Interpolación de funciones usando polinomios de Lagrange (e integral definida)\n",
    "\n",
    "Esta notebook sirve para estudiar el comportamiento de los polinomios de Lagrange. Es útil en el estudio del método de los elementos finitos (entre otras muchas aplicaciones) toda vez que las funciones de forma del método son polinomios de Lagrange. También se incluye el valor de la integral del polinomio de Lagrange usando una regla rectangular.\n",
    "\n",
    "#### ¿Cómo usar esta notebook?\n",
    "Defina la función que será aproximada, la cual se llama \" f \" y se encuentra dentro de la función principal (no cambie el nombre de ninguna de estas dos funciones). Ejecute la celda que contiene el código (shift + enter). La interfaz gráfica que aparecerá le permitirá ver de forma dinámica como el polinomio de Lagrange aproxima a la función y podrá modificar dinámicamente el grado del polinomio y el intervalo de estudio.\n",
    "\n",
    "También se imprime el error absoluto, el cual le permitirá saber que tan precisa es la aproximación."
   ]
  },
  {
   "cell_type": "code",
   "execution_count": 1,
   "id": "f154a7f1",
   "metadata": {
    "scrolled": false
   },
   "outputs": [
    {
     "data": {
      "application/vnd.jupyter.widget-view+json": {
       "model_id": "1095c9d97d554f59afba0b85f2e6f9dc",
       "version_major": 2,
       "version_minor": 0
      },
      "text/plain": [
       "Output()"
      ]
     },
     "metadata": {},
     "output_type": "display_data"
    },
    {
     "data": {
      "application/vnd.jupyter.widget-view+json": {
       "model_id": "56f4464bddb14ce1ab71b1537f95397d",
       "version_major": 2,
       "version_minor": 0
      },
      "text/plain": [
       "HBox(children=(FloatText(value=1.0, description='Lim. Inferior', step=0.1), FloatText(value=10.0, description=…"
      ]
     },
     "metadata": {},
     "output_type": "display_data"
    }
   ],
   "source": [
    "import ipywidgets as wdg\n",
    "import numpy as np\n",
    "import matplotlib.pyplot as plt\n",
    "from scipy.interpolate import lagrange\n",
    "\n",
    "# Función principal. Ejecuta toda la rutina\n",
    "def poly_lagrange(grado, inter_inf, inter_sup):\n",
    "    \n",
    "    # Escriba aquí la función a interpolar\n",
    "    def f(x):\n",
    "        return np.sin(x) + 3*np.cos(1.5*x + 0.8) + np.log10(x) + np.exp(0.3*x)\n",
    "    # ************************************\n",
    "    \n",
    "    X = np.linspace(inter_inf, inter_sup, grado*50)          # Puntos para construir las gráficas\n",
    "    X_nodos = np.linspace(inter_inf, inter_sup, grado + 1)   # Nodos donde será evualada la función\n",
    "    \n",
    "    Y_nodos = f(X_nodos)   # La función evaluada en los nodos\n",
    "    Y = f(X)               # La función evaluada en el intervalo completo\n",
    "    \n",
    "    # Polinomio de Lagrange construido en los nodos\n",
    "    P = lagrange(list(X_nodos), list(Y_nodos))\n",
    "    # Evaluación del polinomio de lagrange resultante en el intervalo\n",
    "    P_X = P(X)\n",
    "    # Listo! ********************************************************\n",
    "    \n",
    "    # Cálculo de la integral (Usando NumPy) *****************\n",
    "    # *******************************************************\n",
    "    delta_x = (inter_sup - inter_inf)/(len(X)-1)\n",
    "    integral_1 = delta_x*np.sum(P_X[:-1])\n",
    "    # Listo! ************************************************\n",
    "    \n",
    "    # Cálculo de la integral (Sin usar NumPy, para confirmar)\n",
    "    # *******************************************************\n",
    "    integral_2 = 0\n",
    "    for i in P_X[:-1]:\n",
    "        integral_2 += delta_x*i\n",
    "    # Listo! ************************************************\n",
    "    \n",
    "    # Error absoluto (Usando NumPy) *************************\n",
    "    # *******************************************************\n",
    "    error_absoluto = np.sum(np.abs(Y - P_X))\n",
    "    # Listo!\n",
    "    \n",
    "    # Error absoluto (Sin usar NumPy, para confirmar) *******\n",
    "    Error_absoluto = 0\n",
    "    for i in range(len(Y)):\n",
    "        Error_absoluto = Error_absoluto + abs(Y[i] - P_X[i])\n",
    "    # Listo! ************************************************\n",
    "    \n",
    "    # Zona de ploteo\n",
    "    plt.figure(figsize=(10, 6))\n",
    "    plt.plot(X, Y, label='Función original')\n",
    "    plt.plot(X, P_X, label='Polinomio de Lagrange')\n",
    "    plt.plot(X_nodos, Y_nodos, 'o', label='Nodos' )\n",
    "    plt.title('Interpolación de Lagrange')\n",
    "    plt.xlabel('x')\n",
    "    plt.ylabel('Función y polinomio')\n",
    "    plt.legend()\n",
    "    plt.grid()    \n",
    "    '''\n",
    "    # Este código plotea la misma gráfica anterior.\n",
    "    # Puede usarse cualquiera de los dos códigos.\n",
    "    \n",
    "    fig = plt.figure(figsize=(10, 6))\n",
    "    ax = plt.axes()\n",
    "    ax.plot(X, Y, label='Función original')\n",
    "    ax.plot(X, P_X, label='Polinomio de Lagrange')\n",
    "    ax.plot(X_nodos, Y_nodos, 'o', label='Nodos' )\n",
    "    ax.legend()\n",
    "    ax.grid()\n",
    "    ax.set(xlabel='x', ylabel='Función y polinomio',\n",
    "           title='Interpolación de Lagrange',\n",
    "    )'''\n",
    "        \n",
    "    print('Error absoluto: {}. (Comprobación: {})'.format(round(Error_absoluto, 4), error_absoluto))\n",
    "    print('La integral es: {}. (Comprobación: {})'.format(round(integral_1, 4), integral_2))\n",
    "# Aquí acaba la función principal*******************\n",
    "\n",
    "# Código de la interfaz gráfica\n",
    "text_inf = wdg.FloatText(description='Lim. Inferior', step=0.1, value=1)   # Widget del límite inferior del intervalo\n",
    "text_sup = wdg.FloatText(description='Lim. Superior', step=0.1, value=10)  # Widget del límite superior del intervalo\n",
    "grado = wdg.BoundedIntText(description='Grado', min=1)                     # Widget del grado del polinomio\n",
    "\n",
    "v1 = wdg.HBox([text_inf, text_sup, grado])   # Organizar los cuadros de texto (los widgets anteriores)\n",
    "\n",
    "# \"Ligar\" la gráfica con la GUI (es lo que genera la interactividad)\n",
    "GUI = wdg.interactive_output(poly_lagrange, {'grado':grado, 'inter_inf':text_inf, 'inter_sup':text_sup})\n",
    "display(GUI, v1)"
   ]
  },
  {
   "cell_type": "code",
   "execution_count": null,
   "id": "373b7832",
   "metadata": {},
   "outputs": [],
   "source": []
  }
 ],
 "metadata": {
  "kernelspec": {
   "display_name": "Python 3 (ipykernel)",
   "language": "python",
   "name": "python3"
  },
  "language_info": {
   "codemirror_mode": {
    "name": "ipython",
    "version": 3
   },
   "file_extension": ".py",
   "mimetype": "text/x-python",
   "name": "python",
   "nbconvert_exporter": "python",
   "pygments_lexer": "ipython3",
   "version": "3.9.12"
  }
 },
 "nbformat": 4,
 "nbformat_minor": 5
}
