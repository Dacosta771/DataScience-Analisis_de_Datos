{
 "cells": [
  {
   "cell_type": "markdown",
   "id": "c10d2a0d",
   "metadata": {},
   "source": [
    "### ANÁLISIS DE ENSAYO DE LABORATORIO: TRACCIÓN EN VARILLAS CORRUGADAS DE REFUERZO ESTRUCTURAL (ACERO ASTM A706 – NTC 2289)<br>\n",
    "\n",
    "<b>RESUMEN</b><br>\n",
    "Se llevó a cabo un ensayo de tracción sobre una varilla #3 (3/8”) de acero de refuerzo para estructuras de concreto armado (varilla corrugada). Los datos de dicho ensayo fueron recolectados mediante los sensores de la máquina y serán analizados en el presente documento, todo ello a la luz de las normatividades aplicables. Con base en los datos obtenidos se estimará el módulo de elasticidad (E), el límite de fluencia (fy), el esfuerzo último (fu), la tenacidad, la resiliencia y la ductilidad."
   ]
  },
  {
   "cell_type": "code",
   "execution_count": 1,
   "id": "c77016e9",
   "metadata": {},
   "outputs": [],
   "source": [
    "# Importaciones básicas\n",
    "\n",
    "import pandas as pd\n",
    "import numpy as np\n",
    "import matplotlib.pyplot as plt\n",
    "from sklearn.linear_model import LinearRegression"
   ]
  },
  {
   "cell_type": "markdown",
   "id": "1ceb7607",
   "metadata": {},
   "source": [
    "### Organización de los datos"
   ]
  },
  {
   "cell_type": "code",
   "execution_count": 2,
   "id": "8aa24f19",
   "metadata": {},
   "outputs": [
    {
     "data": {
      "text/plain": [
       "carga             float64\n",
       "esfuerzo          float64\n",
       "def_unit          float64\n",
       "desplazamiento    float64\n",
       "dtype: object"
      ]
     },
     "execution_count": 2,
     "metadata": {},
     "output_type": "execute_result"
    }
   ],
   "source": [
    "# Creación del DataFrame (llamado \"df\")\n",
    "\n",
    "header =['carga', 'esfuerzo', 'def_unit', 'desplazamiento']\n",
    "df = pd.read_csv('data.csv', sep=';', decimal=',')\n",
    "df.columns = header\n",
    "df.dtypes"
   ]
  },
  {
   "cell_type": "code",
   "execution_count": 3,
   "id": "cd22163e",
   "metadata": {},
   "outputs": [
    {
     "name": "stdout",
     "output_type": "stream",
     "text": [
      "carga             float64\n",
      "esfuerzo          float64\n",
      "def_unit          float64\n",
      "desplazamiento    float64\n",
      "dtype: object\n"
     ]
    },
    {
     "data": {
      "text/html": [
       "<div>\n",
       "<style scoped>\n",
       "    .dataframe tbody tr th:only-of-type {\n",
       "        vertical-align: middle;\n",
       "    }\n",
       "\n",
       "    .dataframe tbody tr th {\n",
       "        vertical-align: top;\n",
       "    }\n",
       "\n",
       "    .dataframe thead th {\n",
       "        text-align: right;\n",
       "    }\n",
       "</style>\n",
       "<table border=\"1\" class=\"dataframe\">\n",
       "  <thead>\n",
       "    <tr style=\"text-align: right;\">\n",
       "      <th></th>\n",
       "      <th>carga</th>\n",
       "      <th>esfuerzo</th>\n",
       "      <th>def_unit</th>\n",
       "      <th>desplazamiento</th>\n",
       "    </tr>\n",
       "  </thead>\n",
       "  <tbody>\n",
       "    <tr>\n",
       "      <th>0</th>\n",
       "      <td>0.313</td>\n",
       "      <td>4.412</td>\n",
       "      <td>0.000</td>\n",
       "      <td>0.062</td>\n",
       "    </tr>\n",
       "    <tr>\n",
       "      <th>1</th>\n",
       "      <td>0.581</td>\n",
       "      <td>8.194</td>\n",
       "      <td>0.012</td>\n",
       "      <td>0.187</td>\n",
       "    </tr>\n",
       "    <tr>\n",
       "      <th>2</th>\n",
       "      <td>0.637</td>\n",
       "      <td>8.982</td>\n",
       "      <td>0.044</td>\n",
       "      <td>0.436</td>\n",
       "    </tr>\n",
       "    <tr>\n",
       "      <th>3</th>\n",
       "      <td>0.759</td>\n",
       "      <td>10.716</td>\n",
       "      <td>0.081</td>\n",
       "      <td>0.810</td>\n",
       "    </tr>\n",
       "    <tr>\n",
       "      <th>4</th>\n",
       "      <td>1.519</td>\n",
       "      <td>21.432</td>\n",
       "      <td>0.106</td>\n",
       "      <td>1.122</td>\n",
       "    </tr>\n",
       "  </tbody>\n",
       "</table>\n",
       "</div>"
      ],
      "text/plain": [
       "   carga  esfuerzo  def_unit  desplazamiento\n",
       "0  0.313     4.412     0.000           0.062\n",
       "1  0.581     8.194     0.012           0.187\n",
       "2  0.637     8.982     0.044           0.436\n",
       "3  0.759    10.716     0.081           0.810\n",
       "4  1.519    21.432     0.106           1.122"
      ]
     },
     "execution_count": 3,
     "metadata": {},
     "output_type": "execute_result"
    }
   ],
   "source": [
    "# Cambiar el tipo de dato de \"String\" a número para operar con ellos\n",
    "df[header].astype('float64')\n",
    "\n",
    "# Visualización de parte de los datos\n",
    "print(df.dtypes)\n",
    "df.head(5)"
   ]
  },
  {
   "cell_type": "code",
   "execution_count": 4,
   "id": "8de23b83",
   "metadata": {},
   "outputs": [
    {
     "name": "stdout",
     "output_type": "stream",
     "text": [
      "<class 'pandas.core.frame.DataFrame'>\n",
      "RangeIndex: 173 entries, 0 to 172\n",
      "Data columns (total 4 columns):\n",
      " #   Column          Non-Null Count  Dtype  \n",
      "---  ------          --------------  -----  \n",
      " 0   carga           173 non-null    float64\n",
      " 1   esfuerzo        173 non-null    float64\n",
      " 2   def_unit        173 non-null    float64\n",
      " 3   desplazamiento  173 non-null    float64\n",
      "dtypes: float64(4)\n",
      "memory usage: 5.5 KB\n"
     ]
    }
   ],
   "source": [
    "# Inspección: No hay datos nulos.\n",
    "df.info()"
   ]
  },
  {
   "cell_type": "code",
   "execution_count": 5,
   "id": "9493e21c",
   "metadata": {},
   "outputs": [
    {
     "data": {
      "text/html": [
       "<div>\n",
       "<style scoped>\n",
       "    .dataframe tbody tr th:only-of-type {\n",
       "        vertical-align: middle;\n",
       "    }\n",
       "\n",
       "    .dataframe tbody tr th {\n",
       "        vertical-align: top;\n",
       "    }\n",
       "\n",
       "    .dataframe thead th {\n",
       "        text-align: right;\n",
       "    }\n",
       "</style>\n",
       "<table border=\"1\" class=\"dataframe\">\n",
       "  <thead>\n",
       "    <tr style=\"text-align: right;\">\n",
       "      <th></th>\n",
       "      <th>carga</th>\n",
       "      <th>esfuerzo</th>\n",
       "      <th>def_unit</th>\n",
       "      <th>desplazamiento</th>\n",
       "    </tr>\n",
       "  </thead>\n",
       "  <tbody>\n",
       "    <tr>\n",
       "      <th>count</th>\n",
       "      <td>173</td>\n",
       "      <td>173</td>\n",
       "      <td>173</td>\n",
       "      <td>173</td>\n",
       "    </tr>\n",
       "    <tr>\n",
       "      <th>unique</th>\n",
       "      <td>1</td>\n",
       "      <td>1</td>\n",
       "      <td>1</td>\n",
       "      <td>1</td>\n",
       "    </tr>\n",
       "    <tr>\n",
       "      <th>top</th>\n",
       "      <td>False</td>\n",
       "      <td>False</td>\n",
       "      <td>False</td>\n",
       "      <td>False</td>\n",
       "    </tr>\n",
       "    <tr>\n",
       "      <th>freq</th>\n",
       "      <td>173</td>\n",
       "      <td>173</td>\n",
       "      <td>173</td>\n",
       "      <td>173</td>\n",
       "    </tr>\n",
       "  </tbody>\n",
       "</table>\n",
       "</div>"
      ],
      "text/plain": [
       "        carga esfuerzo def_unit desplazamiento\n",
       "count     173      173      173            173\n",
       "unique      1        1        1              1\n",
       "top     False    False    False          False\n",
       "freq      173      173      173            173"
      ]
     },
     "execution_count": 5,
     "metadata": {},
     "output_type": "execute_result"
    }
   ],
   "source": [
    "# ...Comprobación...\n",
    "df.isnull().describe()"
   ]
  },
  {
   "cell_type": "code",
   "execution_count": 6,
   "id": "6d81c327",
   "metadata": {},
   "outputs": [
    {
     "data": {
      "text/html": [
       "<div>\n",
       "<style scoped>\n",
       "    .dataframe tbody tr th:only-of-type {\n",
       "        vertical-align: middle;\n",
       "    }\n",
       "\n",
       "    .dataframe tbody tr th {\n",
       "        vertical-align: top;\n",
       "    }\n",
       "\n",
       "    .dataframe thead th {\n",
       "        text-align: right;\n",
       "    }\n",
       "</style>\n",
       "<table border=\"1\" class=\"dataframe\">\n",
       "  <thead>\n",
       "    <tr style=\"text-align: right;\">\n",
       "      <th></th>\n",
       "      <th>carga</th>\n",
       "      <th>esfuerzo</th>\n",
       "      <th>def_unit</th>\n",
       "      <th>desplazamiento</th>\n",
       "    </tr>\n",
       "  </thead>\n",
       "  <tbody>\n",
       "    <tr>\n",
       "      <th>count</th>\n",
       "      <td>173.000000</td>\n",
       "      <td>173.000000</td>\n",
       "      <td>173.000000</td>\n",
       "      <td>173.000000</td>\n",
       "    </tr>\n",
       "    <tr>\n",
       "      <th>mean</th>\n",
       "      <td>38.842896</td>\n",
       "      <td>548.380486</td>\n",
       "      <td>2.061301</td>\n",
       "      <td>20.635601</td>\n",
       "    </tr>\n",
       "    <tr>\n",
       "      <th>std</th>\n",
       "      <td>12.907518</td>\n",
       "      <td>181.762459</td>\n",
       "      <td>1.166460</td>\n",
       "      <td>11.654034</td>\n",
       "    </tr>\n",
       "    <tr>\n",
       "      <th>min</th>\n",
       "      <td>0.313000</td>\n",
       "      <td>4.412000</td>\n",
       "      <td>0.000000</td>\n",
       "      <td>0.062000</td>\n",
       "    </tr>\n",
       "    <tr>\n",
       "      <th>25%</th>\n",
       "      <td>37.290000</td>\n",
       "      <td>526.183000</td>\n",
       "      <td>1.091000</td>\n",
       "      <td>10.970000</td>\n",
       "    </tr>\n",
       "    <tr>\n",
       "      <th>50%</th>\n",
       "      <td>45.108000</td>\n",
       "      <td>636.493000</td>\n",
       "      <td>2.038000</td>\n",
       "      <td>20.381000</td>\n",
       "    </tr>\n",
       "    <tr>\n",
       "      <th>75%</th>\n",
       "      <td>47.040000</td>\n",
       "      <td>663.756000</td>\n",
       "      <td>3.029000</td>\n",
       "      <td>30.291000</td>\n",
       "    </tr>\n",
       "    <tr>\n",
       "      <th>max</th>\n",
       "      <td>47.252000</td>\n",
       "      <td>666.750000</td>\n",
       "      <td>4.456000</td>\n",
       "      <td>44.439000</td>\n",
       "    </tr>\n",
       "  </tbody>\n",
       "</table>\n",
       "</div>"
      ],
      "text/plain": [
       "            carga    esfuerzo    def_unit  desplazamiento\n",
       "count  173.000000  173.000000  173.000000      173.000000\n",
       "mean    38.842896  548.380486    2.061301       20.635601\n",
       "std     12.907518  181.762459    1.166460       11.654034\n",
       "min      0.313000    4.412000    0.000000        0.062000\n",
       "25%     37.290000  526.183000    1.091000       10.970000\n",
       "50%     45.108000  636.493000    2.038000       20.381000\n",
       "75%     47.040000  663.756000    3.029000       30.291000\n",
       "max     47.252000  666.750000    4.456000       44.439000"
      ]
     },
     "execution_count": 6,
     "metadata": {},
     "output_type": "execute_result"
    }
   ],
   "source": [
    "# Resumen útil \n",
    "df.describe()"
   ]
  },
  {
   "cell_type": "code",
   "execution_count": 7,
   "id": "2915fba0",
   "metadata": {},
   "outputs": [
    {
     "data": {
      "image/png": "[encoded data removed]",
      "text/plain": [
       "<Figure size 1080x504 with 1 Axes>"
      ]
     },
     "metadata": {
      "needs_background": "light"
     },
     "output_type": "display_data"
    }
   ],
   "source": [
    "# Exploración inicial de los datos\n",
    "\n",
    "plt.figure( figsize=(15, 7) )\n",
    "plt.plot(df.def_unit, df.esfuerzo, label='Datos de la prueba')\n",
    "plt.arrow(0.85, 480, -0.2, 80)\n",
    "plt.text(0.35, 580, 'Esfuerzo de fluencia')\n",
    "plt.grid()\n",
    "plt.title('Curva esfuerzo-deformación de ingeniería', fontsize=15)\n",
    "plt.xlabel('Deformación unitaria (mm/mm)', fontsize=12)\n",
    "plt.ylabel('Esfuerzo de ingeniería (MPa)', fontsize=12)\n",
    "plt.Circle((0.5, 0.5), 0.3, fill=False)\n",
    "plt.legend();"
   ]
  },
  {
   "cell_type": "markdown",
   "id": "cae61aea",
   "metadata": {},
   "source": [
    "A partir de la gráfica se observa que el límite de fluencia está entre 400 MPa y 500 MPa. Para ubicarlo con precisión me aprovecharé del cambio de pendiente que ocurre allí."
   ]
  },
  {
   "cell_type": "code",
   "execution_count": 8,
   "id": "f02f2496",
   "metadata": {},
   "outputs": [
    {
     "data": {
      "text/html": [
       "<div>\n",
       "<style scoped>\n",
       "    .dataframe tbody tr th:only-of-type {\n",
       "        vertical-align: middle;\n",
       "    }\n",
       "\n",
       "    .dataframe tbody tr th {\n",
       "        vertical-align: top;\n",
       "    }\n",
       "\n",
       "    .dataframe thead th {\n",
       "        text-align: right;\n",
       "    }\n",
       "</style>\n",
       "<table border=\"1\" class=\"dataframe\">\n",
       "  <thead>\n",
       "    <tr style=\"text-align: right;\">\n",
       "      <th></th>\n",
       "      <th>carga</th>\n",
       "      <th>esfuerzo</th>\n",
       "      <th>def_unit</th>\n",
       "      <th>desplazamiento</th>\n",
       "    </tr>\n",
       "  </thead>\n",
       "  <tbody>\n",
       "    <tr>\n",
       "      <th>count</th>\n",
       "      <td>11.000000</td>\n",
       "      <td>11.000000</td>\n",
       "      <td>11.000000</td>\n",
       "      <td>11.000000</td>\n",
       "    </tr>\n",
       "    <tr>\n",
       "      <th>mean</th>\n",
       "      <td>32.416636</td>\n",
       "      <td>458.133818</td>\n",
       "      <td>0.845364</td>\n",
       "      <td>8.476545</td>\n",
       "    </tr>\n",
       "    <tr>\n",
       "      <th>std</th>\n",
       "      <td>2.058260</td>\n",
       "      <td>29.192826</td>\n",
       "      <td>0.076985</td>\n",
       "      <td>0.752923</td>\n",
       "    </tr>\n",
       "    <tr>\n",
       "      <th>min</th>\n",
       "      <td>28.378000</td>\n",
       "      <td>400.428000</td>\n",
       "      <td>0.723000</td>\n",
       "      <td>7.417000</td>\n",
       "    </tr>\n",
       "    <tr>\n",
       "      <th>25%</th>\n",
       "      <td>31.437500</td>\n",
       "      <td>443.607500</td>\n",
       "      <td>0.788500</td>\n",
       "      <td>7.853500</td>\n",
       "    </tr>\n",
       "    <tr>\n",
       "      <th>50%</th>\n",
       "      <td>32.588000</td>\n",
       "      <td>467.245000</td>\n",
       "      <td>0.841000</td>\n",
       "      <td>8.539000</td>\n",
       "    </tr>\n",
       "    <tr>\n",
       "      <th>75%</th>\n",
       "      <td>33.889500</td>\n",
       "      <td>478.197500</td>\n",
       "      <td>0.903500</td>\n",
       "      <td>9.068500</td>\n",
       "    </tr>\n",
       "    <tr>\n",
       "      <th>max</th>\n",
       "      <td>35.000000</td>\n",
       "      <td>493.877000</td>\n",
       "      <td>0.960000</td>\n",
       "      <td>9.598000</td>\n",
       "    </tr>\n",
       "  </tbody>\n",
       "</table>\n",
       "</div>"
      ],
      "text/plain": [
       "           carga    esfuerzo   def_unit  desplazamiento\n",
       "count  11.000000   11.000000  11.000000       11.000000\n",
       "mean   32.416636  458.133818   0.845364        8.476545\n",
       "std     2.058260   29.192826   0.076985        0.752923\n",
       "min    28.378000  400.428000   0.723000        7.417000\n",
       "25%    31.437500  443.607500   0.788500        7.853500\n",
       "50%    32.588000  467.245000   0.841000        8.539000\n",
       "75%    33.889500  478.197500   0.903500        9.068500\n",
       "max    35.000000  493.877000   0.960000        9.598000"
      ]
     },
     "execution_count": 8,
     "metadata": {},
     "output_type": "execute_result"
    }
   ],
   "source": [
    "# Fitrado de los datos alrededor del punto de fluencia tentativo\n",
    "df_fluencia = df[(df.esfuerzo < 500) & (df.esfuerzo > 400)]\n",
    "df_fluencia.describe()"
   ]
  },
  {
   "cell_type": "code",
   "execution_count": 9,
   "id": "b39d770b",
   "metadata": {},
   "outputs": [
    {
     "data": {
      "text/html": [
       "<div>\n",
       "<style scoped>\n",
       "    .dataframe tbody tr th:only-of-type {\n",
       "        vertical-align: middle;\n",
       "    }\n",
       "\n",
       "    .dataframe tbody tr th {\n",
       "        vertical-align: top;\n",
       "    }\n",
       "\n",
       "    .dataframe thead th {\n",
       "        text-align: right;\n",
       "    }\n",
       "</style>\n",
       "<table border=\"1\" class=\"dataframe\">\n",
       "  <thead>\n",
       "    <tr style=\"text-align: right;\">\n",
       "      <th></th>\n",
       "      <th>carga</th>\n",
       "      <th>esfuerzo</th>\n",
       "      <th>def_unit</th>\n",
       "      <th>desplazamiento</th>\n",
       "    </tr>\n",
       "  </thead>\n",
       "  <tbody>\n",
       "    <tr>\n",
       "      <th>27</th>\n",
       "      <td>28.378</td>\n",
       "      <td>400.428</td>\n",
       "      <td>0.723</td>\n",
       "      <td>7.417</td>\n",
       "    </tr>\n",
       "    <tr>\n",
       "      <th>28</th>\n",
       "      <td>29.707</td>\n",
       "      <td>419.181</td>\n",
       "      <td>0.754</td>\n",
       "      <td>7.542</td>\n",
       "    </tr>\n",
       "    <tr>\n",
       "      <th>29</th>\n",
       "      <td>30.935</td>\n",
       "      <td>436.516</td>\n",
       "      <td>0.779</td>\n",
       "      <td>7.729</td>\n",
       "    </tr>\n",
       "    <tr>\n",
       "      <th>30</th>\n",
       "      <td>31.940</td>\n",
       "      <td>450.699</td>\n",
       "      <td>0.798</td>\n",
       "      <td>7.978</td>\n",
       "    </tr>\n",
       "    <tr>\n",
       "      <th>31</th>\n",
       "      <td>32.555</td>\n",
       "      <td>459.839</td>\n",
       "      <td>0.829</td>\n",
       "      <td>8.227</td>\n",
       "    </tr>\n",
       "    <tr>\n",
       "      <th>32</th>\n",
       "      <td>32.588</td>\n",
       "      <td>467.245</td>\n",
       "      <td>0.841</td>\n",
       "      <td>8.539</td>\n",
       "    </tr>\n",
       "    <tr>\n",
       "      <th>33</th>\n",
       "      <td>33.147</td>\n",
       "      <td>467.718</td>\n",
       "      <td>0.873</td>\n",
       "      <td>8.726</td>\n",
       "    </tr>\n",
       "    <tr>\n",
       "      <th>34</th>\n",
       "      <td>33.638</td>\n",
       "      <td>474.652</td>\n",
       "      <td>0.891</td>\n",
       "      <td>8.975</td>\n",
       "    </tr>\n",
       "    <tr>\n",
       "      <th>35</th>\n",
       "      <td>34.141</td>\n",
       "      <td>481.743</td>\n",
       "      <td>0.916</td>\n",
       "      <td>9.162</td>\n",
       "    </tr>\n",
       "    <tr>\n",
       "      <th>36</th>\n",
       "      <td>34.554</td>\n",
       "      <td>487.574</td>\n",
       "      <td>0.935</td>\n",
       "      <td>9.349</td>\n",
       "    </tr>\n",
       "    <tr>\n",
       "      <th>37</th>\n",
       "      <td>35.000</td>\n",
       "      <td>493.877</td>\n",
       "      <td>0.960</td>\n",
       "      <td>9.598</td>\n",
       "    </tr>\n",
       "  </tbody>\n",
       "</table>\n",
       "</div>"
      ],
      "text/plain": [
       "     carga  esfuerzo  def_unit  desplazamiento\n",
       "27  28.378   400.428     0.723           7.417\n",
       "28  29.707   419.181     0.754           7.542\n",
       "29  30.935   436.516     0.779           7.729\n",
       "30  31.940   450.699     0.798           7.978\n",
       "31  32.555   459.839     0.829           8.227\n",
       "32  32.588   467.245     0.841           8.539\n",
       "33  33.147   467.718     0.873           8.726\n",
       "34  33.638   474.652     0.891           8.975\n",
       "35  34.141   481.743     0.916           9.162\n",
       "36  34.554   487.574     0.935           9.349\n",
       "37  35.000   493.877     0.960           9.598"
      ]
     },
     "execution_count": 9,
     "metadata": {},
     "output_type": "execute_result"
    }
   ],
   "source": [
    "# Datos alrededor de la fluencia\n",
    "df_fluencia"
   ]
  },
  {
   "cell_type": "code",
   "execution_count": 10,
   "id": "ba47e0f6",
   "metadata": {},
   "outputs": [
    {
     "name": "stdout",
     "output_type": "stream",
     "text": [
      "Esfuerzo de fluencia: 467.245 MPa\n",
      "<===================================================>\n"
     ]
    }
   ],
   "source": [
    "# ESFUERZO DE FLUENCIA!!!\n",
    "diferencias = df_fluencia.esfuerzo - df_fluencia['esfuerzo'].shift(periods=1, fill_value=0)\n",
    "indice_min = diferencias.idxmin()\n",
    "esf_fluencia = df.esfuerzo[indice_min-1]\n",
    "\n",
    "print('Esfuerzo de fluencia: {} MPa'.format(esf_fluencia))\n",
    "print('<===================================================>')"
   ]
  },
  {
   "cell_type": "code",
   "execution_count": 11,
   "id": "a4a8b7df",
   "metadata": {},
   "outputs": [
    {
     "name": "stdout",
     "output_type": "stream",
     "text": [
      "Límite elástico: 467.245 MPa\n",
      "Deformación unitaria en la fluencia: 0.841 mm/mm\n",
      "<===================================================>\n"
     ]
    }
   ],
   "source": [
    "# Hallar el rango elástico de los datos\n",
    "elasticidad = df[df['esfuerzo'] <= esf_fluencia]   # Filtro del rango elástico\n",
    "lim_elas = elasticidad['esfuerzo'].max()   # Esfuerso de fluencia\n",
    "e_y = elasticidad['def_unit'][elasticidad['esfuerzo'].idxmax()]   # Deformación unitaria en la fluencia\n",
    "print('Límite elástico: {} MPa\\nDeformación unitaria en la fluencia: {} mm/mm'.format(lim_elas, e_y))\n",
    "print('<===================================================>')"
   ]
  },
  {
   "cell_type": "markdown",
   "id": "b85bc7c9",
   "metadata": {},
   "source": [
    "La norma establece que el esfuerzo de fluencia mínimo debe ser 420 MPa, y el máximo debe ser 540 MPa. En consecuencia, la\n",
    "varilla ensayada cumple con la norma."
   ]
  },
  {
   "cell_type": "code",
   "execution_count": 12,
   "id": "85298a14",
   "metadata": {},
   "outputs": [
    {
     "name": "stdout",
     "output_type": "stream",
     "text": [
      "Límite de falla: 666.75 MPa\n",
      "Deformación unitaria en la falla: 3.472 mm/mm\n",
      "<===================================================>\n"
     ]
    }
   ],
   "source": [
    "# Análisis del estado de falla\n",
    "Fu = df['esfuerzo'].max()   # Esfuerzo de ruptura (Fu) de la probeta\n",
    "e_u = df['def_unit'][df['esfuerzo'].idxmax()]   # Deformación unitaria en la falla\n",
    "print('Límite de falla: {} MPa\\nDeformación unitaria en la falla: {} mm/mm'.format(Fu, e_u))\n",
    "print('<===================================================>')"
   ]
  },
  {
   "cell_type": "markdown",
   "id": "f06852d0",
   "metadata": {},
   "source": [
    "Según la norma, la resistencia a la tracción debe ser, por lo menos, 1.25 veces el valor del esfuerzo de fluencia. Entonces\n",
    "1.25(467.25) MPa = 584.06 MPa. Vemos entonces que la varilla ensayada tiene una resistecia mayor que la mínima exigida por la norma."
   ]
  },
  {
   "cell_type": "markdown",
   "id": "4c602318",
   "metadata": {},
   "source": [
    "### Aproximaciones del Módulo de elasticidad E (Módulo de Young)\n",
    "El módulo de elasticidad es la pendiente de la gráfica esfuerzo-deformación en el rango elástico (el cual es, teóricamente, un segmento de recta).\n",
    "\n",
    "Dada la inspección inicial de los datos (mirar la grafica primera) calcularé tres aproximaciones al módulo de elasticidad. La primera será, simplemente, un promedio de las pendientes entre el origen (0, 0) y cada uno de los puntos del rango elástico.\n",
    "\n",
    "Para la segunda y tercera estimación de E usaré un enfoque de <b>Machine Learning</b>. Haré dos regresiones lineales con los datos del rango elástico, la primera de las cuales es libre de estimar el intercepto, mientras que la segunda será forzada a que el intercepto sea (0, 0) como teóricamente debería ser."
   ]
  },
  {
   "cell_type": "code",
   "execution_count": 13,
   "id": "b91b792b",
   "metadata": {},
   "outputs": [
    {
     "name": "stdout",
     "output_type": "stream",
     "text": [
      "Módulo de elasticidad: 433 MPa\n",
      "<===================================================>\n"
     ]
    }
   ],
   "source": [
    "# Aproximación de E como la media de la pendiente de cada punto\n",
    "E_1 = (elasticidad.esfuerzo[1:]/elasticidad.def_unit[1:]).mean()\n",
    "print('Módulo de elasticidad: {} MPa'.format( round( E_1 ) ))\n",
    "print('<===================================================>')"
   ]
  },
  {
   "cell_type": "code",
   "execution_count": 14,
   "id": "900262b0",
   "metadata": {},
   "outputs": [
    {
     "name": "stdout",
     "output_type": "stream",
     "text": [
      "Módulo de elasticidad: 590 MPa\n",
      "<===================================================>\n"
     ]
    }
   ],
   "source": [
    "'''Aproximación de E como la pendiente de la regreción lineal de los datos en el rango elástico suponiendo\n",
    "   que el intercepto NO ES el origen. Este modelo SÓLO es útil para aproximar la pendiente, pero no es útil\n",
    "   para predecir valores en el rango elástico'''\n",
    "\n",
    "elast_aprox_1 = LinearRegression(fit_intercept=True)   # Modelo: Instancia de la clase \"LinearRegression\"\n",
    "elast_aprox_1.fit(np.array(elasticidad.def_unit)[:, None], np.array(elasticidad.esfuerzo)[:, None])   # Entrenar el modelo\n",
    "esfu_elas_1 = elast_aprox_1.predict(np.array(elasticidad.def_unit)[:, None])   # Usar el modelo para predecir\n",
    "\n",
    "print('Módulo de elasticidad: {} MPa'.format( round( elast_aprox_1.coef_[0, 0] ) ))\n",
    "print('<===================================================>')"
   ]
  },
  {
   "cell_type": "code",
   "execution_count": 15,
   "id": "0299fb23",
   "metadata": {},
   "outputs": [
    {
     "name": "stdout",
     "output_type": "stream",
     "text": [
      "Módulo de elasticidad: 509 MPa\n",
      "<===================================================>\n"
     ]
    }
   ],
   "source": [
    "'''Aproximación de E como la pendiente de la regreción lineal de los datos en el rango elástico suponiendo\n",
    "   que el intercepto SÍ ES el origen'''\n",
    "\n",
    "elast_aprox_2 = LinearRegression(fit_intercept=False)   # Modelo: Instancia de la clase \"LinearRegression\"\n",
    "elast_aprox_2.fit(np.array(elasticidad.def_unit)[:, None], np.array(elasticidad.esfuerzo)[:, None])   # Entrenar el modelo\n",
    "esfu_elas_2 = elast_aprox_2.predict(np.array(elasticidad.def_unit)[:, None])   # Usar el modelo para predecir\n",
    "\n",
    "print('Módulo de elasticidad: {} MPa'.format( round( elast_aprox_2.coef_[0, 0] ) ))\n",
    "print('<===================================================>')"
   ]
  },
  {
   "cell_type": "markdown",
   "id": "6bb17aaf",
   "metadata": {},
   "source": [
    "<b>Conclusión</b>\n",
    "\n",
    "Los valores obtenidos del módulo de elasticidad mediante las aproximaciones arriba descritas para el material de la varilla discrepan notoriamente con el valor de referencia de la literatura (200000 MPa). La explicaión más probable para esta discrepancia tan grande en el módulo de elasticidad (pero no así en los esfuerzos de fluencia y falla) es un posible mal ajuste\n",
    "de las mordazas de la máquina universal, lo cual habría permitido un deslizamiento ligero de la probeta de pruebas. Dadas las deformaciones relativamente pequeñas de los materiales metálicos, un deslizamiento de solo 5 mm en la prueba de tracción haría\n",
    "que el valor obtenido del módulo de elasticidad difiera enormemente del valor real."
   ]
  },
  {
   "cell_type": "markdown",
   "id": "c3912a0b",
   "metadata": {},
   "source": [
    "### ...Visualización de los resultados..."
   ]
  },
  {
   "cell_type": "code",
   "execution_count": 16,
   "id": "5275572e",
   "metadata": {},
   "outputs": [
    {
     "data": {
      "image/png": "[encoded data removed]",
      "text/plain": [
       "<Figure size 1080x720 with 4 Axes>"
      ]
     },
     "metadata": {
      "needs_background": "light"
     },
     "output_type": "display_data"
    }
   ],
   "source": [
    "# Espacio de ploteo\n",
    "fig = plt.figure(figsize=(15, 10))\n",
    "# Grid para ubicar cada gráfica\n",
    "grid = plt.GridSpec(2, 3, hspace=0.3, wspace=0.4)\n",
    "\n",
    "# Gráfica de los datos de la prueba (Gráfica superior) **********************************\n",
    "# ***************************************************************************************\n",
    "datos = fig.add_subplot(grid[0, :])\n",
    "rng_elas = fig.add_subplot(grid[1, 0])\n",
    "elast_reg_1 = fig.add_subplot(grid[1, 1])\n",
    "elast_reg_2 = fig.add_subplot(grid[1, 2])\n",
    "\n",
    "datos.plot(df.def_unit, df.esfuerzo, label='Datos de la prueba')\n",
    "datos.plot(elasticidad.def_unit, elasticidad.esfuerzo, color='red', label='Rango elástico')\n",
    "datos.scatter(\n",
    "    elasticidad['def_unit'].max(), elasticidad['esfuerzo'].max(),\n",
    "    s=200, color='red', marker='*',\n",
    "    label='Límite elástico'\n",
    ")\n",
    "datos.grid()\n",
    "datos.set_title('Curva esfuerzo-deformación de ingeniería', fontsize=15)\n",
    "datos.set_xlabel('Deformación unitaria (mm/mm)', fontsize=12)\n",
    "datos.set_ylabel('Esfuerzo de ingeniería (MPa)', fontsize=12)\n",
    "datos.legend()\n",
    "# ***************************************************************************************\n",
    "\n",
    "\n",
    "# Gráfica del rango elástico (Gráfica inferior izquierda) *******************************\n",
    "# ***************************************************************************************\n",
    "rng_elas.plot(elasticidad.def_unit, elasticidad.esfuerzo, color='red', label='Rango elástico')\n",
    "rng_elas.scatter(\n",
    "    elasticidad['def_unit'].max(), elasticidad['esfuerzo'].max(),\n",
    "    s=200, color='red', marker='*',\n",
    "    label='Límite elástico'\n",
    ")\n",
    "rng_elas.set_title('Rango elástico', fontsize=15)\n",
    "rng_elas.set_xlabel('Deformación unitaria (mm/mm)', fontsize=12)\n",
    "rng_elas.set_ylabel('Esfuerzo de ingeniería (MPa)', fontsize=12)\n",
    "rng_elas.grid()\n",
    "rng_elas.legend()\n",
    "# ***************************************************************************************\n",
    "\n",
    "\n",
    "# Gráfica del rango elástico y E aprox. 1 (Gráfica inferior izquierda) ******************\n",
    "# ***************************************************************************************\n",
    "elast_reg_1.plot(elasticidad.def_unit, elasticidad.esfuerzo, color='red', label='Rango elástico')\n",
    "elast_reg_1.plot(elasticidad.def_unit, esfu_elas_1, label='Aproximación', color='green')\n",
    "elast_reg_1.scatter(\n",
    "    elasticidad['def_unit'].max(), elasticidad['esfuerzo'].max(),\n",
    "    s=200, color='red', marker='*',\n",
    "    label='Límite elástico'\n",
    ")\n",
    "elast_reg_1.set_title('E aprox. CON intercepto', fontsize=15)\n",
    "elast_reg_1.set_xlabel('Deformación unitaria (mm/mm)', fontsize=12)\n",
    "elast_reg_1.set_ylabel('Esfuerzo de ingeniería (MPa)', fontsize=12)\n",
    "elast_reg_1.grid()\n",
    "elast_reg_1.legend()\n",
    "# ***************************************************************************************\n",
    "\n",
    "\n",
    "# Gráfica del rango elástico y E aprox. 2 (Gráfica inferior izquierda) ******************\n",
    "# ***************************************************************************************\n",
    "elast_reg_2.plot(elasticidad.def_unit, elasticidad.esfuerzo, color='red', label='Rango elástico')\n",
    "elast_reg_2.plot(elasticidad.def_unit, esfu_elas_2, label='Aproximación', color='gray')\n",
    "elast_reg_2.scatter(\n",
    "    elasticidad['def_unit'].max(), elasticidad['esfuerzo'].max(),\n",
    "    s=200, color='red', marker='*',\n",
    "    label='Límite elástico'\n",
    ")\n",
    "elast_reg_2.set_title('E aprox. SIN intercepto', fontsize=15)\n",
    "elast_reg_2.set_xlabel('Deformación unitaria (mm/mm)', fontsize=12)\n",
    "elast_reg_2.set_ylabel('Esfuerzo de ingeniería (MPa)', fontsize=12)\n",
    "elast_reg_2.grid()\n",
    "elast_reg_2.legend()\n",
    "# ***************************************************************************************\n",
    "\n",
    "plt.show();"
   ]
  },
  {
   "cell_type": "markdown",
   "id": "3d1d046e",
   "metadata": {},
   "source": [
    "## Cálculos de áreas bajo la curva para determinar la resiliencia, la tenacidad y la ductilidad"
   ]
  },
  {
   "cell_type": "markdown",
   "id": "4ddea6a0",
   "metadata": {},
   "source": [
    "La siguiente función calcula la integral, dada una nube de puntos"
   ]
  },
  {
   "cell_type": "code",
   "execution_count": 17,
   "id": "ce458ba8",
   "metadata": {},
   "outputs": [],
   "source": [
    "def integral(X, Y):\n",
    "    X, Y = list(X), list(Y)\n",
    "    longitud = max(X) - min(X)\n",
    "    delta_X = longitud/len(X)\n",
    "    \n",
    "    integral = 0\n",
    "    for i in range(len(X)):\n",
    "        integral += delta_X*Y[i]\n",
    "    \n",
    "    return integral"
   ]
  },
  {
   "cell_type": "code",
   "execution_count": 18,
   "id": "ab806d72",
   "metadata": {},
   "outputs": [
    {
     "name": "stdout",
     "output_type": "stream",
     "text": [
      "Tenacidad: 2443.58 MJ/m^3\n",
      "<===================================================>\n"
     ]
    }
   ],
   "source": [
    "# Tenacidad: área bajo la curva hasta la falla (toda la curva)\n",
    "tenacidad = integral(df.def_unit, df.esfuerzo)\n",
    "print('Tenacidad: {} MJ/m^3'.format( round( tenacidad, 2 ) ))\n",
    "print('<===================================================>')"
   ]
  },
  {
   "cell_type": "code",
   "execution_count": 19,
   "id": "0725e684",
   "metadata": {},
   "outputs": [
    {
     "name": "stdout",
     "output_type": "stream",
     "text": [
      "Resiliencia: 180.21 MJ/m^3\n",
      "<===================================================>\n"
     ]
    }
   ],
   "source": [
    "# Resiliencia: área bajo la curva en el rango elástico\n",
    "resiliencia = integral(elasticidad.def_unit, elasticidad.esfuerzo)\n",
    "print('Resiliencia: {} MJ/m^3'.format( round( resiliencia, 2 ) ))\n",
    "print('<===================================================>')"
   ]
  },
  {
   "cell_type": "code",
   "execution_count": 20,
   "id": "c66a787f",
   "metadata": {},
   "outputs": [
    {
     "name": "stdout",
     "output_type": "stream",
     "text": [
      "Ductilidad: 2263.37 MJ/m^3\n",
      "<===================================================>\n"
     ]
    }
   ],
   "source": [
    "# Ductilidad: área bajo la curva en la zona plástica\n",
    "ductilidad = tenacidad - resiliencia\n",
    "print('Ductilidad: {} MJ/m^3'.format( round( ductilidad, 2 ) ))\n",
    "print('<===================================================>')"
   ]
  },
  {
   "cell_type": "code",
   "execution_count": null,
   "id": "b46436e2",
   "metadata": {},
   "outputs": [],
   "source": []
  }
 ],
 "metadata": {
  "kernelspec": {
   "display_name": "Python 3 (ipykernel)",
   "language": "python",
   "name": "python3"
  },
  "language_info": {
   "codemirror_mode": {
    "name": "ipython",
    "version": 3
   },
   "file_extension": ".py",
   "mimetype": "text/x-python",
   "name": "python",
   "nbconvert_exporter": "python",
   "pygments_lexer": "ipython3",
   "version": "3.9.12"
  }
 },
 "nbformat": 4,
 "nbformat_minor": 5
}
