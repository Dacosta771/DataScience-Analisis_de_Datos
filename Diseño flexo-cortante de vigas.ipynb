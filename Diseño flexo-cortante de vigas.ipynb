{
 "cells": [
  {
   "cell_type": "markdown",
   "metadata": {},
   "source": [
    "### Descripción del programa\n",
    "Este programa sirve para el cálculo a flexión de vigas de concreto reforzado siguiendo los lineamientos de la Norma Colombiana de Construcción Sismoresistente <b>(NSR-10)</b>.\n",
    "\n",
    "La interfaz gráfica permite ingresar los valores de diseño y ver los resultados de forma interactiva. Los resultados consisten en los refuerzos máximo y mínimo, el refuerzo balanceado, <b>el refuerzo requerido (de diseño)</b> y la deformación unitaria a tracción al momento de la falla, así como una gráfica que muestra las deformaciones unitarias de la sección al momento de la falla. También se muestra la línea límite de deformaciones unitarias (para que el diseño sea satisfactorio, la deformación unitaria a tracción no debe ser menor a este límite de 0.005).\n",
    "\n",
    "#### ¿Cómo usar este programa? \n",
    "Ejecute la celda que contiene el código (shift + enter). Una vez se ejecuta la celda, se crean la zona gráfica y los controles interactivos. Modifique los datos a través de los controles interactivos. No modifique el código de la celda; no es necesario para usar el programa."
   ]
  },
  {
   "cell_type": "code",
   "execution_count": 1,
   "metadata": {},
   "outputs": [
    {
     "data": {
      "application/vnd.jupyter.widget-view+json": {
       "model_id": "8edf63b38ac74ffb88c28b4ec1d29fbf",
       "version_major": 2,
       "version_minor": 0
      },
      "text/plain": [
       "Output()"
      ]
     },
     "metadata": {},
     "output_type": "display_data"
    },
    {
     "data": {
      "application/vnd.jupyter.widget-view+json": {
       "model_id": "c005a1074f73400bbea5088c91a8bb45",
       "version_major": 2,
       "version_minor": 0
      },
      "text/plain": [
       "VBox(children=(HBox(children=(FloatText(value=0.3, description='Peralte', step=0.01), FloatText(value=0.3, des…"
      ]
     },
     "metadata": {},
     "output_type": "display_data"
    }
   ],
   "source": [
    "from math import sqrt\n",
    "import matplotlib.pyplot as plt\n",
    "import ipywidgets as wdg\n",
    "\n",
    "def flexion_vigas(h, b, r, fc, fy, Mu):\n",
    "    \n",
    "    # fc: f'c del concreto (En MPa, <= 30 MPa)\n",
    "    # fy: fy del acero (En MPa) ¡¡¡DEBE SER GRADO 60!!!\n",
    "    # h: Peralte de la viga. Altura total de la sección (En m)\n",
    "    # b: Ancho de la sección (En m)\n",
    "    # r: Recubrimiento al centroide del refuerzo (En m)\n",
    "    # Mu: Momento de diseño (en kN-m)\n",
    "    \n",
    "    phi = 0.9       # En este programa no se modificará este factor\n",
    "    d = h - r       # Peralte efectivo\n",
    "    \n",
    "    \n",
    "    # Cuantía de diseño **********************************\n",
    "    Rn = (Mu/1000)/(phi*b*d**2)\n",
    "    B = 2*Rn/(0.85*fc)\n",
    "    \n",
    "    A, rho = 0, 0.001\n",
    "    if (B >= 1):\n",
    "        print('-----> ¡¡¡Revisar el valor de Mu!!! <-----')\n",
    "    else:\n",
    "        rho = (0.85*fc/fy)*(1 - sqrt(1 - B))\n",
    "        A = rho*b*d\n",
    "    # ****************************************************\n",
    "\n",
    "    # Deformación unitaria del acero en la falla *********\n",
    "    a = rho*fy*d/(0.85*fc)       # Profundidad del bloque de Whitney\n",
    "    c = a/0.85                   # Distancia al eje neutro desde la fibra superior\n",
    "    es = (d -c)*0.003/c\n",
    "    # ****************************************************\n",
    "\n",
    "    # Cuantía mínima *************************************\n",
    "    Am1 = sqrt(fc)*b*d/(4*fy)\n",
    "    Am2 = 1.4*b*d/fy\n",
    "\n",
    "    if (Am1 >= Am2):\n",
    "        A_min = Am1\n",
    "    else:\n",
    "        A_min = Am2\n",
    "    # ****************************************************\n",
    "\n",
    "    # 0.75 de la cuantía balanceada (cuantía máx) ********\n",
    "    rho_bal = (0.85*0.85*fc/fy)*(600/(600 + fy))\n",
    "    A_max = 0.75*rho_bal*b*d\n",
    "    A_bal = rho_bal*b*d\n",
    "    # ****************************************************\n",
    "    \n",
    "    # Resultados de los cálculos *************************\n",
    "    print('El refuerzo mínimo es {} mm^2'.format(A_min*1000**2))\n",
    "    print('El refuerzo de diseño es {} mm^2'.format(A*1000**2))\n",
    "    print('La deformación del acero es {}'.format(es))\n",
    "    # Comprobar el mecanismo que controla la falla\n",
    "    if (es < 0.005):\n",
    "        print('\\t-----> ¡¡Esta sección no es controlada por tensión!! <-----')\n",
    "    else:\n",
    "        print('\\tSección controlada por tensión. Phi=0.90')\n",
    "    # ********************************************\n",
    "    print('El refuerzo balanceado es {} mm^2'.format(A_bal*1000**2))\n",
    "    print('El refuerzo máximo es {} mm^2'.format(A_max*1000**2))\n",
    "    \n",
    "    \n",
    "    # Gráfica de los resultados\n",
    "    n = 19                             # Número de puntos\n",
    "    m = d/(0.003 + es)\n",
    "    x = [i*(0.003 + es)/n - es for i in range(n+1)]\n",
    "    y = [m*x[i] for i in range(n+1)]\n",
    "\n",
    "    plt.figure(figsize=(7, 7))\n",
    "    plt.plot(x, y, label='Def. unitaria (mm/mm)')\n",
    "    plt.plot([0, 0], [c-d, c], 'k')\n",
    "    #plt.plot([-es, 0.003], [0, 0], 'k')\n",
    "    plt.plot([0, 0.003], [c, c])\n",
    "    plt.plot([-es, 0], [c-d, c-d])\n",
    "    plt.plot([-0.005, -0.005], [c-d-0.05, c+0.05], label='Límite inferior de falla controlada por tracción (0.005)')\n",
    "    plt.legend()\n",
    "    plt.xlim(-es-0.001, 0.004)\n",
    "    plt.ylim(c-d-0.05, c+0.05)\n",
    "    plt.grid()\n",
    "    plt.ylabel('Peralte de la viga (m)', size=14)\n",
    "    plt.xlabel('Deformación unitaria (mm/mm)', size=14)\n",
    "    plt.title('DEFORMACIÓN UNITARIA EN LA SECCIÓN', size=20)\n",
    "    plt.show;\n",
    "    # Fin de la función principal\n",
    "\n",
    "# Creación de la interfaz gráfica\n",
    "peralte = wdg.FloatText(description='Peralte', step=0.01, value=0.3)\n",
    "ancho = wdg.FloatText(description='Ancho', step=0.01, value=0.3)\n",
    "recubrimiento = wdg.FloatText(description='Recubrimiento', step=0.005, value=0.025)\n",
    "concreto = wdg.FloatText(description=\"f'c (MPa)\", step=1, value=21)\n",
    "acero = wdg.FloatText(description='fy (MPa)', step=1, value=420)\n",
    "M_ultimo = wdg.FloatText(description='Mu (kN-m)', step=10, value=90)\n",
    "\n",
    "asignaciones = {\n",
    "    'h': peralte,\n",
    "    'b': ancho,\n",
    "    'r': recubrimiento,\n",
    "    'fc': concreto,\n",
    "    'fy': acero,\n",
    "    'Mu': M_ultimo,\n",
    "}\n",
    "\n",
    "h1 = wdg.HBox([peralte, ancho, recubrimiento])\n",
    "h2 = wdg.HBox([concreto, acero, M_ultimo])\n",
    "v = wdg.VBox([h1, h2])\n",
    "\n",
    "GUI = wdg.interactive_output(flexion_vigas, asignaciones)\n",
    "display(GUI, v)"
   ]
  },
  {
   "cell_type": "code",
   "execution_count": null,
   "metadata": {},
   "outputs": [],
   "source": []
  }
 ],
 "metadata": {
  "kernelspec": {
   "display_name": "Python 3 (ipykernel)",
   "language": "python",
   "name": "python3"
  },
  "language_info": {
   "codemirror_mode": {
    "name": "ipython",
    "version": 3
   },
   "file_extension": ".py",
   "mimetype": "text/x-python",
   "name": "python",
   "nbconvert_exporter": "python",
   "pygments_lexer": "ipython3",
   "version": "3.9.12"
  }
 },
 "nbformat": 4,
 "nbformat_minor": 4
}
